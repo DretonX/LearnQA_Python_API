{
 "cells": [
  {
   "cell_type": "code",
   "execution_count": 3,
   "id": "8428ee38",
   "metadata": {},
   "outputs": [
    {
     "name": "stdout",
     "output_type": "stream",
     "text": [
      "{\"password\":\"123456\",\"equals\":false}\n",
      "{\"password\":\"password\",\"equals\":false}\n",
      "{\"password\":\"123456789\",\"equals\":false}\n",
      "{\"password\":\"12345678\",\"equals\":false}\n",
      "{\"password\":\"12345\",\"equals\":false}\n",
      "{\"password\":\"1234567\",\"equals\":false}\n",
      "{\"password\":\"1234567890\",\"equals\":false}\n",
      "{\"password\":\"admin\",\"equals\":false}\n",
      "{\"password\":\"qwerty\",\"equals\":false}\n",
      "{\"password\":\"123123\",\"equals\":false}\n",
      "{\"password\":\"letmein\",\"equals\":false}\n",
      "{\"password\":\"monkey\",\"equals\":false}\n",
      "{\"password\":\"dragon\",\"equals\":false}\n",
      "{\"password\":\"111111\",\"equals\":false}\n",
      "{\"password\":\"baseball\",\"equals\":false}\n",
      "{\"password\":\"iloveyou\",\"equals\":false}\n",
      "{\"password\":\"trustno1\",\"equals\":false}\n",
      "{\"password\":\"1234567\",\"equals\":false}\n",
      "{\"password\":\"sunshine\",\"equals\":false}\n",
      "{\"password\":\"master\",\"equals\":false}\n",
      "{\"password\":\"123123\",\"equals\":false}\n",
      "{\"password\":\"welcome\",\"equals\":true}\n",
      "{\"password\":\"shadow\",\"equals\":false}\n",
      "{\"password\":\"ashley\",\"equals\":false}\n",
      "{\"password\":\"football\",\"equals\":false}\n"
     ]
    }
   ],
   "source": [
    "import requests\n",
    "\n",
    "\n",
    "login = \"super_admin\"\n",
    "url1 = \"https://playground.learnqa.ru/ajax/api/get_secret_password_homework\"\n",
    "url2 = \"https://playground.learnqa.ru/ajax/api/check_auth_cookie\"\n",
    "\n",
    "passwords = [\n",
    "    \"123456\", \"password\", \"123456789\", \"12345678\", \"12345\", \"1234567\",\n",
    "    \"1234567890\", \"admin\", \"qwerty\", \"123123\", \"letmein\", \"monkey\",\n",
    "    \"dragon\", \"111111\", \"baseball\", \"iloveyou\", \"trustno1\", \"1234567\",\n",
    "    \"sunshine\", \"master\", \"123123\", \"welcome\", \"shadow\", \"ashley\", \"football\"\n",
    "]\n",
    "\n",
    "for password in passwords:\n",
    "    payload = {\"login\": login, \"password\": password}\n",
    "    response1 = requests.post(url1, data=payload)\n",
    "    print(response1.text)"
   ]
  },
  {
   "cell_type": "code",
   "execution_count": null,
   "id": "a778e97b",
   "metadata": {},
   "outputs": [],
   "source": []
  }
 ],
 "metadata": {
  "kernelspec": {
   "display_name": "Python 3 (ipykernel)",
   "language": "python",
   "name": "python3"
  },
  "language_info": {
   "codemirror_mode": {
    "name": "ipython",
    "version": 3
   },
   "file_extension": ".py",
   "mimetype": "text/x-python",
   "name": "python",
   "nbconvert_exporter": "python",
   "pygments_lexer": "ipython3",
   "version": "3.11.2"
  }
 },
 "nbformat": 4,
 "nbformat_minor": 5
}
