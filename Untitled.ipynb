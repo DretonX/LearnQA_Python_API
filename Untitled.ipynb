{
 "cells": [
  {
   "cell_type": "code",
   "execution_count": 21,
   "id": "0fa90951",
   "metadata": {},
   "outputs": [
    {
     "name": "stdout",
     "output_type": "stream",
     "text": [
      "<Response [200]>\n",
      "{'login': 'super_admin', 'password': 'welcome'}\n",
      "<Response [200]>\n",
      "{'login': 'super_admin', 'password': 'welcome'}\n",
      "<Response [200]>\n",
      "{'login': 'super_admin', 'password': 'welcome'}\n",
      "<Response [200]>\n",
      "{'login': 'super_admin', 'password': 'welcome'}\n",
      "<Response [200]>\n",
      "{'login': 'super_admin', 'password': 'welcome'}\n",
      "<Response [200]>\n",
      "{'login': 'super_admin', 'password': 'welcome'}\n",
      "<Response [200]>\n",
      "{'login': 'super_admin', 'password': 'welcome'}\n",
      "<Response [200]>\n",
      "{'login': 'super_admin', 'password': 'welcome'}\n",
      "<Response [200]>\n",
      "{'login': 'super_admin', 'password': 'welcome'}\n",
      "<Response [200]>\n",
      "{'login': 'super_admin', 'password': 'welcome'}\n",
      "<Response [200]>\n",
      "{'login': 'super_admin', 'password': 'welcome'}\n",
      "<Response [200]>\n",
      "{'login': 'super_admin', 'password': 'welcome'}\n",
      "<Response [200]>\n",
      "{'login': 'super_admin', 'password': 'welcome'}\n",
      "<Response [200]>\n",
      "{'login': 'super_admin', 'password': 'welcome'}\n",
      "<Response [200]>\n",
      "{'login': 'super_admin', 'password': 'welcome'}\n",
      "<Response [200]>\n",
      "{'login': 'super_admin', 'password': 'welcome'}\n",
      "<Response [200]>\n",
      "{'login': 'super_admin', 'password': 'welcome'}\n",
      "<Response [200]>\n",
      "{'login': 'super_admin', 'password': 'welcome'}\n",
      "<Response [200]>\n",
      "{'login': 'super_admin', 'password': 'welcome'}\n",
      "<Response [200]>\n",
      "{'login': 'super_admin', 'password': 'welcome'}\n",
      "<Response [200]>\n",
      "{'login': 'super_admin', 'password': 'welcome'}\n",
      "<Response [200]>\n",
      "{'login': 'super_admin', 'password': 'welcome'}\n",
      "<Response [200]>\n",
      "{'login': 'super_admin', 'password': 'welcome'}\n",
      "<Response [200]>\n",
      "{'login': 'super_admin', 'password': 'welcome'}\n",
      "<Response [200]>\n",
      "{'login': 'super_admin', 'password': 'welcome'}\n"
     ]
    }
   ],
   "source": [
    "import requests\n",
    "\n",
    "\n",
    "login = \"super_admin\"\n",
    "url1 = \"https://playground.learnqa.ru/ajax/api/get_secret_password_homework\"\n",
    "url2 = \"https://playground.learnqa.ru/ajax/api/check_auth_cookie\"\n",
    "\n",
    "passwords = [\n",
    "    \"123456\", \"password\", \"123456789\", \"12345678\", \"12345\", \"1234567\",\n",
    "    \"1234567890\", \"admin\", \"qwerty\", \"123123\", \"letmein\", \"monkey\",\n",
    "    \"dragon\", \"111111\", \"baseball\", \"iloveyou\", \"trustno1\", \"1234567\",\n",
    "    \"sunshine\", \"master\", \"123123\", \"welcome\", \"shadow\", \"ashley\", \"football\"\n",
    "]\n",
    "\n",
    "for password in passwords:\n",
    "    payload = {\"login\": login, \"password\": 'welcome'}\n",
    "    response1 = requests.post(url1, data=payload)\n",
    "    print(response1)\n",
    "    print(payload)\n"
   ]
  },
  {
   "cell_type": "code",
   "execution_count": 22,
   "id": "1702e033",
   "metadata": {},
   "outputs": [
    {
     "name": "stdout",
     "output_type": "stream",
     "text": [
      "200\n",
      "{\"password\":\"welcome\",\"equals\":true}\n"
     ]
    }
   ],
   "source": [
    "print(response1.status_code)\n",
    "print(response1.text)"
   ]
  },
  {
   "cell_type": "code",
   "execution_count": 23,
   "id": "3d91ef7c",
   "metadata": {},
   "outputs": [],
   "source": [
    "auth_cookie = response1.cookies.get(\"auth_cookie\")\n"
   ]
  },
  {
   "cell_type": "code",
   "execution_count": 24,
   "id": "12b3f845",
   "metadata": {},
   "outputs": [
    {
     "name": "stdout",
     "output_type": "stream",
     "text": [
      "471822\n"
     ]
    }
   ],
   "source": [
    "print(auth_cookie)"
   ]
  },
  {
   "cell_type": "code",
   "execution_count": 25,
   "id": "e091757e",
   "metadata": {},
   "outputs": [
    {
     "name": "stdout",
     "output_type": "stream",
     "text": [
      "{'auth_cookie': '471822'}\n",
      "You are authorized\n"
     ]
    }
   ],
   "source": [
    "if auth_cookie:\n",
    "    cookies = {\"auth_cookie\": auth_cookie}\n",
    "    response2 = requests.post(url2, cookies=cookies)\n",
    "    print(cookies)\n",
    "    print(response2.text)\n",
    "            "
   ]
  },
  {
   "cell_type": "code",
   "execution_count": 28,
   "id": "581f059e",
   "metadata": {},
   "outputs": [
    {
     "name": "stdout",
     "output_type": "stream",
     "text": [
      "Password is: welcome\n"
     ]
    }
   ],
   "source": [
    "if response2.text == \"You are authorized\":\n",
    "    print(f\"Password is: {'welcome'}\")\n"
   ]
  },
  {
   "cell_type": "code",
   "execution_count": null,
   "id": "e1f9035f",
   "metadata": {},
   "outputs": [],
   "source": []
  },
  {
   "cell_type": "code",
   "execution_count": null,
   "id": "8f171739",
   "metadata": {},
   "outputs": [],
   "source": []
  }
 ],
 "metadata": {
  "kernelspec": {
   "display_name": "Python 3 (ipykernel)",
   "language": "python",
   "name": "python3"
  },
  "language_info": {
   "codemirror_mode": {
    "name": "ipython",
    "version": 3
   },
   "file_extension": ".py",
   "mimetype": "text/x-python",
   "name": "python",
   "nbconvert_exporter": "python",
   "pygments_lexer": "ipython3",
   "version": "3.11.2"
  }
 },
 "nbformat": 4,
 "nbformat_minor": 5
}
